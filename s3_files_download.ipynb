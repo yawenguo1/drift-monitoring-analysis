{
 "cells": [
  {
   "cell_type": "code",
   "execution_count": 1,
   "id": "19849643-8f31-4e09-b907-cac44e3bd5e0",
   "metadata": {},
   "outputs": [
    {
     "name": "stdout",
     "output_type": "stream",
     "text": [
      "TOC/validation/metadata/\n",
      "TOC/validation/metadata/2024 01 Case PDF files Attachments Report.csv\n",
      "TOC/validation/metadata/2024 02 Case PDF files Attachments Report.csv\n",
      "TOC/validation/metadata/2024 03 Case PDF files Attachments Report.csv\n",
      "TOC/validation/metadata/2024 04 Case PDF files Attachments Report.csv\n",
      "TOC/validation/metadata/2024 05 Case PDF files Attachments Report.csv\n",
      "TOC/validation/metadata/2024 06 Case PDF files Attachments Report.csv\n",
      "TOC/validation/metadata/2024 07 Case PDF files Attachments Report.csv\n",
      "TOC/validation/metadata/2024 08 Case PDF files Attachments Report.csv\n",
      "TOC/validation/metadata/2024 09 Case PDF files Attachments Report.csv\n",
      "TOC/validation/metadata/2024 10 Case PDF files Attachments Report.csv\n",
      "TOC/validation/metadata/2024 11 Case PDF files Attachments Report.csv\n",
      "TOC/validation/metadata/2024 12 Case PDF files Attachments Report.csv\n",
      "TOC/validation/metadata/202401CasePDFfilesAttachmentsReport_s3locations.txt\n",
      "TOC/validation/metadata/2024_CasePDFfilesAttachmentsReport_s3.txt\n",
      "TOC/validation/metadata/2024_cases_s3_batch1.txt\n",
      "TOC/validation/metadata/2024_cases_s3_batch2.txt\n",
      "TOC/validation/metadata/2024_cases_s3_batch3.txt\n",
      "TOC/validation/metadata/2024_cases_s3_batch4.txt\n",
      "TOC/validation/metadata/2024_cases_s3_batch5.txt\n",
      "TOC/validation/metadata/2024_cases_s3_batch6.txt\n",
      "TOC/validation/metadata/2025_01_metadata_s3.txt\n",
      "TOC/validation/metadata/2025_02_metadata_s3.txt\n",
      "TOC/validation/metadata/2025_03_metadata_s3.txt\n",
      "TOC/validation/metadata/Transfer Case Intake Data (2024, Jan-Mar 2025) (1).xlsx\n",
      "TOC/validation/metadata/distinct_caseid_2024_nonrapid_accepted.txt\n",
      "TOC/validation/metadata/distinct_caseid_2025_nonrapid_accepted2.txt000\n",
      "TOC/validation/metadata/glookoo_2025.txt000\n",
      "TOC/validation/metadata/intake_2024_clean2.txt\n",
      "TOC/validation/metadata/intake_form_2024_nonrapid_accepted.txt000\n",
      "TOC/validation/metadata/tc_2023_fullcol_clean.txt\n",
      "TOC/validation/metadata/tc_2024_fullcol.csv\n",
      "TOC/validation/metadata/tc_2024_fullcol_clean.csv\n",
      "TOC/validation/metadata/tc_2024_lesscols2.txt\n",
      "TOC/validation/metadata/tc_2025_fullcol.csv\n",
      "TOC/validation/metadata/tc_2025_fullcol_clean.csv\n",
      "TOC/validation/metadata/tc_2025_lesscols2.txt\n",
      "TOC/validation/metadata/toc_all_outcomes_2024_kmcxfer_june32025.txt000\n",
      "TOC/validation/metadata/toc_all_outcomes_kmcxfer_2024.txt\n",
      "TOC/validation/metadata/toc_all_outcomes_kmcxfer_2024_05272025.txt000\n",
      "TOC/validation/metadata/toc_mortality_los_2025_labels.txt000\n",
      "TOC/validation/metadata/toc_outcomes_2023_24_merged.csv\n",
      "TOC/validation/metadata/toc_outcomes_2023_24_mrn_fin_caseid_merged.csv\n",
      "TOC/validation/metadata/toc_outcomes_2023_24_mrn_fin_merged.csv\n",
      "TOC/validation/metadata/toc_outcomes_2025.sql\n",
      "TOC/validation/metadata/toc_readm_2024_june32025.txt000\n",
      "TOC/validation/metadata/toc_readm_comp_kmcxfer2.txt000\n",
      "TOC/validation/metadata/toc_readmit_2025_labels.txt000\n",
      "N files in TOC/validation/metadata/: 47\n"
     ]
    }
   ],
   "source": [
    "import boto3\n",
    "\n",
    "s3     = boto3.resource('s3')\n",
    "bucket = s3.Bucket('dev-edl-dsc-data')\n",
    "\n",
    "prefix ='TOC/validation/metadata/'   #  This is correct for your task\n",
    "\n",
    "for k, obj in enumerate(bucket.objects.filter(Prefix=prefix)):\n",
    "    print(obj.key, end=\"\\n\")  # This prints each file\n",
    "    pass\n",
    "\n",
    "print(\"N files in {}: {}\".format(prefix, k))\n"
   ]
  },
  {
   "cell_type": "code",
   "execution_count": 2,
   "id": "52082feb-0382-422b-91e4-a0bc784b260b",
   "metadata": {},
   "outputs": [
    {
     "name": "stdout",
     "output_type": "stream",
     "text": [
      "Downloaded TOC/validation/metadata/toc_outcomes_2023_24_mrn_fin_caseid_merged.csv to toc_outcomes_2023_24_mrn_fin_caseid_merged.csv\n"
     ]
    }
   ],
   "source": [
    "s3_client = boto3.client('s3')\n",
    "\n",
    "bucket = 'dev-edl-dsc-data'  # ✅ correct bucket\n",
    "key = 'TOC/validation/metadata/toc_outcomes_2023_24_mrn_fin_caseid_merged.csv'\n",
    "local_path = 'toc_outcomes_2023_24_mrn_fin_caseid_merged.csv'\n",
    "\n",
    "s3_client.download_file(bucket, key, local_path)\n",
    "print(\"Downloaded {} to {}\".format(key, local_path))"
   ]
  },
  {
   "cell_type": "code",
   "execution_count": 3,
   "id": "305c3e60-3870-4378-a653-2fea56b6d9e3",
   "metadata": {},
   "outputs": [
    {
     "name": "stderr",
     "output_type": "stream",
     "text": [
      "/home/ec2-user/anaconda3/envs/python3/lib/python3.10/site-packages/pandas/core/computation/expressions.py:21: UserWarning: Pandas requires version '2.8.4' or newer of 'numexpr' (version '2.7.3' currently installed).\n",
      "  from pandas.core.computation.check import NUMEXPR_INSTALLED\n"
     ]
    },
    {
     "name": "stdout",
     "output_type": "stream",
     "text": [
      "sagemaker.config INFO - Not applying SDK defaults from location: /etc/xdg/sagemaker/config.yaml\n",
      "sagemaker.config INFO - Not applying SDK defaults from location: /home/ec2-user/.config/sagemaker/config.yaml\n",
      "arn:aws:iam::248877539307:role/DS-ExecutionRole\n"
     ]
    }
   ],
   "source": [
    "import sagemaker\n",
    "role = sagemaker.get_execution_role()\n",
    "print(role)"
   ]
  },
  {
   "cell_type": "code",
   "execution_count": 4,
   "id": "db1a0204-feb3-45af-b573-46b34adb86dc",
   "metadata": {},
   "outputs": [
    {
     "name": "stdout",
     "output_type": "stream",
     "text": [
      "Filesystem      Size  Used Avail Use% Mounted on\n",
      "devtmpfs        1.9G     0  1.9G   0% /dev\n",
      "tmpfs           1.9G     0  1.9G   0% /dev/shm\n",
      "tmpfs           1.9G  648K  1.9G   1% /run\n",
      "tmpfs           1.9G     0  1.9G   0% /sys/fs/cgroup\n",
      "/dev/nvme0n1p1  135G   79G   57G  59% /\n",
      "/dev/nvme1n1    4.8G   27M  4.5G   1% /home/ec2-user/SageMaker\n",
      "tmpfs           386M     0  386M   0% /run/user/1001\n",
      "tmpfs           386M     0  386M   0% /run/user/1002\n",
      "tmpfs           386M     0  386M   0% /run/user/1000\n",
      "tmpfs           386M     0  386M   0% /run/user/0\n"
     ]
    }
   ],
   "source": [
    "!df -h"
   ]
  },
  {
   "cell_type": "code",
   "execution_count": 5,
   "id": "fcf312c3-8d86-4852-9177-8ed23ac5eb9b",
   "metadata": {},
   "outputs": [
    {
     "name": "stdout",
     "output_type": "stream",
     "text": [
      "Total size in S3: 0.27 GB\n"
     ]
    }
   ],
   "source": [
    "bucket_name = 'dev-edl-dsc-data'\n",
    "prefix = 'TOC_summarization/compiled_intake/'\n",
    "\n",
    "s3 = boto3.client('s3')\n",
    "\n",
    "total_size_bytes = 0\n",
    "paginator = s3.get_paginator('list_objects_v2')\n",
    "for page in paginator.paginate(Bucket=bucket_name, Prefix=prefix):\n",
    "    for obj in page.get('Contents', []):\n",
    "        total_size_bytes += obj['Size']\n",
    "\n",
    "total_size_gb = total_size_bytes / (1024**3)\n",
    "print(f\"Total size in S3: {total_size_gb:.2f} GB\")"
   ]
  },
  {
   "cell_type": "code",
   "execution_count": 7,
   "id": "45b9297b-251b-48f4-8879-c9de316b31f3",
   "metadata": {},
   "outputs": [
    {
     "name": "stdout",
     "output_type": "stream",
     "text": [
      "Total .txt files in TOC_summarization/compiled_intake/: 11834\n",
      "Elapsed time: 0:22:31.484603\n"
     ]
    }
   ],
   "source": [
    "import boto3\n",
    "import os\n",
    "from datetime import datetime\n",
    "\n",
    "def process_txt_files(bucket_name, folder_path, local_dir=None, file_type='.txt', mode='count'):\n",
    "    \"\"\"\n",
    "    Lists or downloads .txt files from a given S3 location.\n",
    "    \n",
    "    mode = 'count'  -> only counts files\n",
    "    mode = 'download' -> downloads files to local_dir\n",
    "    \"\"\"\n",
    "    s3_client = boto3.client('s3')\n",
    "    \n",
    "    if local_dir and not os.path.exists(local_dir):\n",
    "        os.makedirs(local_dir)\n",
    "\n",
    "    paginator = s3_client.get_paginator('list_objects_v2')\n",
    "    pages = paginator.paginate(Bucket=bucket_name, Prefix=folder_path)\n",
    "    \n",
    "    file_count = 0\n",
    "    for page in pages:\n",
    "        for obj in page.get('Contents', []):\n",
    "            if obj['Key'].endswith(file_type):\n",
    "                file_count += 1\n",
    "                file_name = os.path.basename(obj['Key'])\n",
    "                local_file_path = os.path.join(local_dir if local_dir else '.', file_name)\n",
    "                \n",
    "                if mode == 'download':\n",
    "                    # Uncomment to enable downloading\n",
    "                    s3_client.download_file(bucket_name, obj['Key'], local_file_path)\n",
    "                    pass\n",
    "    \n",
    "    print(f\"Total {file_type} files in {folder_path}: {file_count}\")\n",
    "\n",
    "\n",
    "# === Run for COUNT only ===\n",
    "bucket_name = 'dev-edl-dsc-data'\n",
    "folder_path = 'TOC_summarization/compiled_intake/'\n",
    "local_folder = 'compiled_intake_txt_files'  # folder for download later\n",
    "\n",
    "start_time = datetime.now()\n",
    "process_txt_files(bucket_name, folder_path, local_folder, '.txt', mode='download')\n",
    "end_time = datetime.now()\n",
    "\n",
    "print(f\"Elapsed time: {end_time - start_time}\")"
   ]
  },
  {
   "cell_type": "code",
   "execution_count": null,
   "id": "18979311-ac28-4bcd-bdf0-3dfdab9b407c",
   "metadata": {},
   "outputs": [],
   "source": []
  }
 ],
 "metadata": {
  "kernelspec": {
   "display_name": "conda_python3",
   "language": "python",
   "name": "conda_python3"
  },
  "language_info": {
   "codemirror_mode": {
    "name": "ipython",
    "version": 3
   },
   "file_extension": ".py",
   "mimetype": "text/x-python",
   "name": "python",
   "nbconvert_exporter": "python",
   "pygments_lexer": "ipython3",
   "version": "3.10.18"
  }
 },
 "nbformat": 4,
 "nbformat_minor": 5
}
